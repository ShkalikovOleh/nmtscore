{
 "cells": [
  {
   "cell_type": "code",
   "execution_count": 11,
   "metadata": {
    "collapsed": true
   },
   "outputs": [],
   "source": [
    "from experiments.paraphrase_benchmark import ParaphraseIdentificationBenchmark\n",
    "from experiments.webnlg import WebNLGBenchmark\n",
    "from experiments.multilingual_amr import MultilingualAMRBenchmark"
   ]
  },
  {
   "cell_type": "code",
   "execution_count": null,
   "outputs": [],
   "source": [
    "benchmark = ParaphraseIdentificationBenchmark()\n",
    "benchmark.load_tasks()"
   ],
   "metadata": {
    "collapsed": false,
    "pycharm": {
     "name": "#%%\n",
     "is_executing": true
    }
   }
  },
  {
   "cell_type": "markdown",
   "source": [
    "## English (MRPC)"
   ],
   "metadata": {
    "collapsed": false
   }
  },
  {
   "cell_type": "code",
   "source": [
    "print(\"Validation\")\n",
    "benchmark.mrpc.validation_task.print_statistics()\n",
    "print(\"Test\")\n",
    "benchmark.mrpc.evaluation_task.print_statistics()"
   ],
   "metadata": {
    "collapsed": false,
    "pycharm": {
     "name": "#%%\n"
    }
   },
   "execution_count": 3,
   "outputs": [
    {
     "name": "stdout",
     "output_type": "stream",
     "text": [
      "Validation\n",
      "Number of samples: 367\n",
      "Number of positive samples: 239\n",
      "Number of negative samples: 128\n",
      "Average number of characters: 108.71875\n",
      "Test\n",
      "Number of samples: 1568\n",
      "Number of positive samples: 1002\n",
      "Number of negative samples: 566\n",
      "Average number of characters: 107.10777385159011\n"
     ]
    }
   ]
  },
  {
   "cell_type": "markdown",
   "source": [
    "## Russian"
   ],
   "metadata": {
    "collapsed": false
   }
  },
  {
   "cell_type": "code",
   "execution_count": 4,
   "outputs": [
    {
     "name": "stdout",
     "output_type": "stream",
     "text": [
      "Number of samples: 1924\n",
      "Number of positive samples: 1152\n",
      "Number of negative samples: 772\n",
      "Average number of characters: 59.5369170984456\n"
     ]
    }
   ],
   "source": [
    "benchmark.russian.print_statistics()"
   ],
   "metadata": {
    "collapsed": false,
    "pycharm": {
     "name": "#%%\n"
    }
   }
  },
  {
   "cell_type": "markdown",
   "source": [
    "## Finnish"
   ],
   "metadata": {
    "collapsed": false
   }
  },
  {
   "cell_type": "code",
   "execution_count": 5,
   "outputs": [
    {
     "name": "stdout",
     "output_type": "stream",
     "text": [
      "Number of samples: 20942\n",
      "Number of positive samples: 15368\n",
      "Number of negative samples: 5574\n",
      "Average number of characters: 72.85010764262648\n"
     ]
    }
   ],
   "source": [
    "benchmark.finnish.print_statistics()"
   ],
   "metadata": {
    "collapsed": false,
    "pycharm": {
     "name": "#%%\n"
    }
   }
  },
  {
   "cell_type": "markdown",
   "source": [
    "## Swedish"
   ],
   "metadata": {
    "collapsed": false
   }
  },
  {
   "cell_type": "code",
   "execution_count": 6,
   "outputs": [
    {
     "name": "stdout",
     "output_type": "stream",
     "text": [
      "Number of samples: 1081\n",
      "Number of positive samples: 783\n",
      "Number of negative samples: 298\n",
      "Average number of characters: 44.90771812080537\n"
     ]
    }
   ],
   "source": [
    "benchmark.swedish.print_statistics()"
   ],
   "metadata": {
    "collapsed": false,
    "pycharm": {
     "name": "#%%\n"
    }
   }
  },
  {
   "cell_type": "markdown",
   "source": [
    "## PAWS-X"
   ],
   "metadata": {
    "collapsed": false
   }
  },
  {
   "cell_type": "code",
   "execution_count": 7,
   "outputs": [
    {
     "name": "stdout",
     "output_type": "stream",
     "text": [
      "de\n",
      "Validation\n",
      "Number of samples: 1932\n",
      "Number of positive samples: 831\n",
      "Number of negative samples: 1101\n",
      "Average number of characters: 119.20435967302453\n",
      "Test\n",
      "Number of samples: 1968\n",
      "Number of positive samples: 895\n",
      "Number of negative samples: 1073\n",
      "Average number of characters: 121.32758620689656\n",
      "\n",
      "es\n",
      "Validation\n",
      "Number of samples: 1962\n",
      "Number of positive samples: 847\n",
      "Number of negative samples: 1115\n",
      "Average number of characters: 117.37668161434978\n",
      "Test\n",
      "Number of samples: 1999\n",
      "Number of positive samples: 907\n",
      "Number of negative samples: 1092\n",
      "Average number of characters: 118.31822344322345\n",
      "\n",
      "fr\n",
      "Validation\n",
      "Number of samples: 1992\n",
      "Number of positive samples: 860\n",
      "Number of negative samples: 1132\n",
      "Average number of characters: 119.68727915194346\n",
      "Test\n",
      "Number of samples: 1986\n",
      "Number of positive samples: 903\n",
      "Number of negative samples: 1083\n",
      "Average number of characters: 120.9353647276085\n",
      "\n",
      "ja\n",
      "Validation\n",
      "Number of samples: 1980\n",
      "Number of positive samples: 854\n",
      "Number of negative samples: 1126\n",
      "Average number of characters: 57.86856127886323\n",
      "Test\n",
      "Number of samples: 1946\n",
      "Number of positive samples: 883\n",
      "Number of negative samples: 1063\n",
      "Average number of characters: 60.269520225776105\n",
      "\n",
      "zh\n",
      "Validation\n",
      "Number of samples: 1984\n",
      "Number of positive samples: 853\n",
      "Number of negative samples: 1131\n",
      "Average number of characters: 42.90671971706455\n",
      "Test\n",
      "Number of samples: 1975\n",
      "Number of positive samples: 894\n",
      "Number of negative samples: 1081\n",
      "Average number of characters: 44.0013876040703\n",
      "\n"
     ]
    }
   ],
   "source": [
    "for language, task in zip(benchmark.pawsx_languages, benchmark.pawsx_tasks):\n",
    "  print(language)\n",
    "  print(\"Validation\")\n",
    "  task.validation_task.print_statistics()\n",
    "  print(\"Test\")\n",
    "  task.evaluation_task.print_statistics()\n",
    "  print()"
   ],
   "metadata": {
    "collapsed": false,
    "pycharm": {
     "name": "#%%\n"
    }
   }
  },
  {
   "cell_type": "markdown",
   "source": [
    "## Cross-lingual PAWS-X"
   ],
   "metadata": {
    "collapsed": false
   }
  },
  {
   "cell_type": "code",
   "execution_count": 8,
   "outputs": [],
   "source": [
    "from experiments.crosslingual_pawsx import CrossLingualPAWSXBenchmark"
   ],
   "metadata": {
    "collapsed": false,
    "pycharm": {
     "name": "#%%\n"
    }
   }
  },
  {
   "cell_type": "code",
   "execution_count": null,
   "outputs": [],
   "source": [
    "benchmark = CrossLingualPAWSXBenchmark()\n",
    "benchmark.load_tasks()"
   ],
   "metadata": {
    "collapsed": false,
    "pycharm": {
     "name": "#%%\n",
     "is_executing": true
    }
   }
  },
  {
   "cell_type": "code",
   "execution_count": 10,
   "outputs": [
    {
     "name": "stdout",
     "output_type": "stream",
     "text": [
      "en–es\n",
      "Validation\n",
      "Number of samples: 3924\n",
      "Number of positive samples: 1694\n",
      "Number of negative samples: 2230\n",
      "Average number of characters: 115.08430493273542\n",
      "Test\n",
      "Number of samples: 3998\n",
      "Number of positive samples: 1814\n",
      "Number of negative samples: 2184\n",
      "Average number of characters: 116.20467032967034\n",
      "\n",
      "en–fr\n",
      "Validation\n",
      "Number of samples: 3984\n",
      "Number of positive samples: 1720\n",
      "Number of negative samples: 2264\n",
      "Average number of characters: 116.29439045936395\n",
      "Test\n",
      "Number of samples: 3972\n",
      "Number of positive samples: 1806\n",
      "Number of negative samples: 2166\n",
      "Average number of characters: 117.51223453370268\n",
      "\n",
      "en–ja\n",
      "Validation\n",
      "Number of samples: 3960\n",
      "Number of positive samples: 1708\n",
      "Number of negative samples: 2252\n",
      "Average number of characters: 85.45515097690941\n",
      "Test\n",
      "Number of samples: 3892\n",
      "Number of positive samples: 1766\n",
      "Number of negative samples: 2126\n",
      "Average number of characters: 87.09595484477893\n",
      "\n",
      "en–zh\n",
      "Validation\n",
      "Number of samples: 3968\n",
      "Number of positive samples: 1706\n",
      "Number of negative samples: 2262\n",
      "Average number of characters: 77.96131741821397\n",
      "Test\n",
      "Number of samples: 3950\n",
      "Number of positive samples: 1788\n",
      "Number of negative samples: 2162\n",
      "Average number of characters: 79.05226641998149\n",
      "\n",
      "de–en\n",
      "Validation\n",
      "Number of samples: 3864\n",
      "Number of positive samples: 1662\n",
      "Number of negative samples: 2202\n",
      "Average number of characters: 116.202770208901\n",
      "Test\n",
      "Number of samples: 3936\n",
      "Number of positive samples: 1790\n",
      "Number of negative samples: 2146\n",
      "Average number of characters: 117.80428704566636\n",
      "\n",
      "de–es\n",
      "Validation\n",
      "Number of samples: 3808\n",
      "Number of positive samples: 1640\n",
      "Number of negative samples: 2168\n",
      "Average number of characters: 118.34640221402213\n",
      "Test\n",
      "Number of samples: 3936\n",
      "Number of positive samples: 1790\n",
      "Number of negative samples: 2146\n",
      "Average number of characters: 119.90214352283317\n",
      "\n",
      "de–fr\n",
      "Validation\n",
      "Number of samples: 3852\n",
      "Number of positive samples: 1658\n",
      "Number of negative samples: 2194\n",
      "Average number of characters: 119.53783044667274\n",
      "Test\n",
      "Number of samples: 3920\n",
      "Number of positive samples: 1788\n",
      "Number of negative samples: 2132\n",
      "Average number of characters: 121.19254221388368\n",
      "\n",
      "de–ja\n",
      "Validation\n",
      "Number of samples: 3830\n",
      "Number of positive samples: 1646\n",
      "Number of negative samples: 2184\n",
      "Average number of characters: 88.57967032967034\n",
      "Test\n",
      "Number of samples: 3842\n",
      "Number of positive samples: 1748\n",
      "Number of negative samples: 2094\n",
      "Average number of characters: 90.72158548233047\n",
      "\n",
      "de–zh\n",
      "Validation\n",
      "Number of samples: 3838\n",
      "Number of positive samples: 1648\n",
      "Number of negative samples: 2190\n",
      "Average number of characters: 81.08059360730594\n",
      "Test\n",
      "Number of samples: 3898\n",
      "Number of positive samples: 1772\n",
      "Number of negative samples: 2126\n",
      "Average number of characters: 82.7140169332079\n",
      "\n",
      "es–fr\n",
      "Validation\n",
      "Number of samples: 3908\n",
      "Number of positive samples: 1688\n",
      "Number of negative samples: 2220\n",
      "Average number of characters: 118.42027027027027\n",
      "Test\n",
      "Number of samples: 3972\n",
      "Number of positive samples: 1806\n",
      "Number of negative samples: 2166\n",
      "Average number of characters: 119.62857802400738\n",
      "\n",
      "es–ja\n",
      "Validation\n",
      "Number of samples: 3886\n",
      "Number of positive samples: 1678\n",
      "Number of negative samples: 2208\n",
      "Average number of characters: 87.56816123188406\n",
      "Test\n",
      "Number of samples: 3890\n",
      "Number of positive samples: 1766\n",
      "Number of negative samples: 2124\n",
      "Average number of characters: 89.23870056497175\n",
      "\n",
      "es–zh\n",
      "Validation\n",
      "Number of samples: 3892\n",
      "Number of positive samples: 1674\n",
      "Number of negative samples: 2218\n",
      "Average number of characters: 80.10978358881876\n",
      "Test\n",
      "Number of samples: 3948\n",
      "Number of positive samples: 1788\n",
      "Number of negative samples: 2160\n",
      "Average number of characters: 81.15347222222222\n",
      "\n",
      "fr–ja\n",
      "Validation\n",
      "Number of samples: 3944\n",
      "Number of positive samples: 1702\n",
      "Number of negative samples: 2242\n",
      "Average number of characters: 88.81021409455843\n",
      "Test\n",
      "Number of samples: 3878\n",
      "Number of positive samples: 1764\n",
      "Number of negative samples: 2114\n",
      "Average number of characters: 90.50993377483444\n",
      "\n",
      "fr–zh\n",
      "Validation\n",
      "Number of samples: 3954\n",
      "Number of positive samples: 1702\n",
      "Number of negative samples: 2252\n",
      "Average number of characters: 81.31216696269982\n",
      "Test\n",
      "Number of samples: 3926\n",
      "Number of positive samples: 1784\n",
      "Number of negative samples: 2142\n",
      "Average number of characters: 82.44957983193277\n",
      "\n",
      "ja–zh\n",
      "Validation\n",
      "Number of samples: 3928\n",
      "Number of positive samples: 1688\n",
      "Number of negative samples: 2240\n",
      "Average number of characters: 50.372098214285714\n",
      "Test\n",
      "Number of samples: 3848\n",
      "Number of positive samples: 1744\n",
      "Number of negative samples: 2104\n",
      "Average number of characters: 52.085788973384034\n",
      "\n"
     ]
    }
   ],
   "source": [
    "for (language1, language2), task in benchmark.tasks.items():\n",
    "  print(f\"{language1}–{language2}\")\n",
    "  print(\"Validation\")\n",
    "  task.validation_task.print_statistics()\n",
    "  print(\"Test\")\n",
    "  task.evaluation_task.print_statistics()\n",
    "  print()"
   ],
   "metadata": {
    "collapsed": false,
    "pycharm": {
     "name": "#%%\n"
    }
   }
  },
  {
   "cell_type": "markdown",
   "source": [
    "## WebNLG 2020"
   ],
   "metadata": {
    "collapsed": false,
    "pycharm": {
     "name": "#%% md\n"
    }
   }
  },
  {
   "cell_type": "code",
   "execution_count": 12,
   "outputs": [
    {
     "name": "stdout",
     "output_type": "stream",
     "text": [
      "Number of samples: 2848\n",
      "Number of documents: 178\n",
      "Number of systems: 16\n",
      "Average number of references 2.8876404494382024\n",
      "Average number of reference characters 131.53501945525292\n"
     ]
    }
   ],
   "source": [
    "WebNLGBenchmark(language=\"en\").print_statistics()"
   ],
   "metadata": {
    "collapsed": false,
    "pycharm": {
     "name": "#%%\n"
    }
   }
  },
  {
   "cell_type": "code",
   "execution_count": 13,
   "outputs": [
    {
     "name": "stdout",
     "output_type": "stream",
     "text": [
      "Number of samples: 770\n",
      "Number of documents: 110\n",
      "Number of systems: 7\n",
      "Average number of references 2.4909090909090907\n",
      "Average number of reference characters 122.61678832116789\n"
     ]
    }
   ],
   "source": [
    "WebNLGBenchmark(language=\"ru\").print_statistics()"
   ],
   "metadata": {
    "collapsed": false,
    "pycharm": {
     "name": "#%%\n"
    }
   }
  },
  {
   "cell_type": "markdown",
   "source": [
    "## AMR-to-Text"
   ],
   "metadata": {
    "collapsed": false,
    "pycharm": {
     "name": "#%% md\n"
    }
   }
  },
  {
   "cell_type": "code",
   "execution_count": 14,
   "outputs": [
    {
     "name": "stdout",
     "output_type": "stream",
     "text": [
      "Language da\n",
      "Number of samples: 50\n",
      "Average number of references 1.0\n",
      "Average number of reference characters 56.38\n",
      "\n",
      "Language el\n",
      "Number of samples: 50\n",
      "Average number of references 1.0\n",
      "Average number of reference characters 60.5\n",
      "\n",
      "Language es\n",
      "Number of samples: 50\n",
      "Average number of references 1.0\n",
      "Average number of reference characters 60.18\n",
      "\n",
      "Language fi\n",
      "Number of samples: 50\n",
      "Average number of references 1.0\n",
      "Average number of reference characters 55.64\n",
      "\n",
      "Language it\n",
      "Number of samples: 50\n",
      "Average number of references 1.0\n",
      "Average number of reference characters 62.14\n",
      "\n",
      "Language nl\n",
      "Number of samples: 50\n",
      "Average number of references 1.0\n",
      "Average number of reference characters 61.02\n",
      "\n",
      "Language pt\n",
      "Number of samples: 50\n",
      "Average number of references 1.0\n",
      "Average number of reference characters 58.86\n",
      "\n",
      "Language sv\n",
      "Number of samples: 50\n",
      "Average number of references 1.0\n",
      "Average number of reference characters 51.92\n",
      "\n",
      "Language bg\n",
      "Number of samples: 50\n",
      "Average number of references 1.0\n",
      "Average number of reference characters 129.6\n",
      "\n",
      "Language cs\n",
      "Number of samples: 50\n",
      "Average number of references 1.0\n",
      "Average number of reference characters 128.82\n",
      "\n",
      "Language et\n",
      "Number of samples: 50\n",
      "Average number of references 1.0\n",
      "Average number of reference characters 42.3\n",
      "\n",
      "Language hu\n",
      "Number of samples: 50\n",
      "Average number of references 1.0\n",
      "Average number of reference characters 138.24\n",
      "\n",
      "Language lv\n",
      "Number of samples: 50\n",
      "Average number of references 1.0\n",
      "Average number of reference characters 128.76\n",
      "\n",
      "Language pl\n",
      "Number of samples: 50\n",
      "Average number of references 1.0\n",
      "Average number of reference characters 151.02\n",
      "\n",
      "Language ro\n",
      "Number of samples: 50\n",
      "Average number of references 1.0\n",
      "Average number of reference characters 130.28\n",
      "\n"
     ]
    }
   ],
   "source": [
    "MultilingualAMRBenchmark().print_statistics()"
   ],
   "metadata": {
    "collapsed": false,
    "pycharm": {
     "name": "#%%\n"
    }
   }
  },
  {
   "cell_type": "code",
   "execution_count": null,
   "outputs": [],
   "source": [],
   "metadata": {
    "collapsed": false,
    "pycharm": {
     "name": "#%%\n"
    }
   }
  }
 ],
 "metadata": {
  "kernelspec": {
   "display_name": "Python 3",
   "language": "python",
   "name": "python3"
  },
  "language_info": {
   "codemirror_mode": {
    "name": "ipython",
    "version": 2
   },
   "file_extension": ".py",
   "mimetype": "text/x-python",
   "name": "python",
   "nbconvert_exporter": "python",
   "pygments_lexer": "ipython2",
   "version": "2.7.6"
  }
 },
 "nbformat": 4,
 "nbformat_minor": 0
}